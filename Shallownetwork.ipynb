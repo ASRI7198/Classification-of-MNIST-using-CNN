{
 "cells": [
  {
   "cell_type": "code",
   "execution_count": 24,
   "id": "bb304f8d",
   "metadata": {},
   "outputs": [],
   "source": [
    "import gzip, numpy, torch\n",
    "import torch.nn as nn\n",
    "import torch.optim as optim\n",
    "from sklearn.model_selection import train_test_split\n",
    "from sklearn.metrics import accuracy_score, f1_score, precision_score, recall_score"
   ]
  },
  {
   "cell_type": "code",
   "execution_count": 13,
   "id": "96122680",
   "metadata": {},
   "outputs": [],
   "source": [
    "batch_size = 5\n",
    "nb_epochs = 100\n",
    "eta = 0.01"
   ]
  },
  {
   "cell_type": "code",
   "execution_count": 14,
   "id": "6d3580b8",
   "metadata": {},
   "outputs": [
    {
     "name": "stderr",
     "output_type": "stream",
     "text": [
      "C:\\Users\\DELL\\AppData\\Local\\Temp\\ipykernel_25792\\1883767992.py:2: FutureWarning: You are using `torch.load` with `weights_only=False` (the current default value), which uses the default pickle module implicitly. It is possible to construct malicious pickle data which will execute arbitrary code during unpickling (See https://github.com/pytorch/pytorch/blob/main/SECURITY.md#untrusted-models for more details). In a future release, the default value for `weights_only` will be flipped to `True`. This limits the functions that could be executed during unpickling. Arbitrary objects will no longer be allowed to be loaded via this mode unless they are explicitly allowlisted by the user via `torch.serialization.add_safe_globals`. We recommend you start setting `weights_only=True` for any use case where you don't have full control of the loaded file. Please open an issue on GitHub for any issues related to this experimental feature.\n",
      "  ((data_train, label_train), (data_test, label_test)) = torch.load(gzip.open('mnist.pkl.gz'))\n"
     ]
    }
   ],
   "source": [
    "((data_train, label_train), (data_test, label_test)) = torch.load(gzip.open('mnist.pkl.gz'))"
   ]
  },
  {
   "cell_type": "code",
   "execution_count": 15,
   "id": "7e94b062",
   "metadata": {},
   "outputs": [],
   "source": [
    "data_train, data_validation, label_train, label_validation = train_test_split(data_train, label_train, test_size=0.2)"
   ]
  },
  {
   "cell_type": "code",
   "execution_count": 16,
   "id": "b095240a",
   "metadata": {},
   "outputs": [],
   "source": [
    "train_dataset = torch.utils.data.TensorDataset(data_train,label_train)\n",
    "test_dataset = torch.utils.data.TensorDataset(data_test,label_test)\n",
    "valid_dataset = torch.utils.data.TensorDataset(data_validation,label_validation)\n",
    "train_loader = torch.utils.data.DataLoader(train_dataset, batch_size=batch_size, shuffle=True)\n",
    "test_loader = torch.utils.data.DataLoader(test_dataset, batch_size=1, shuffle=False)\n",
    "valid_loader = torch.utils.data.DataLoader(valid_dataset, batch_size=1, shuffle=False)"
   ]
  },
  {
   "cell_type": "code",
   "execution_count": 17,
   "id": "a0a91e83",
   "metadata": {},
   "outputs": [],
   "source": [
    "class ShallowNetwork(nn.Module):\n",
    "    \n",
    "    def __init__(self,input_size, hidden_size, output_size):\n",
    "        super(ShallowNetwork,self).__init__()\n",
    "        self.hidden = nn.Linear(input_size,hidden_size)\n",
    "        self.relu = nn.ReLU()\n",
    "        self.dropout = nn.Dropout(0.5)\n",
    "        self.output = nn.Linear(hidden_size,output_size)\n",
    "        \n",
    "    def forward(self,x):\n",
    "        out = self.hidden(x)\n",
    "        out = self.relu(out)\n",
    "        out = self.dropout(out)\n",
    "        out = self.output(out)\n",
    "        return out"
   ]
  },
  {
   "cell_type": "code",
   "execution_count": null,
   "id": "17cb4de7",
   "metadata": {},
   "outputs": [],
   "source": []
  },
  {
   "cell_type": "code",
   "execution_count": 18,
   "id": "fe3552d4",
   "metadata": {},
   "outputs": [],
   "source": [
    "input_size = 784\n",
    "hidden_size = 150\n",
    "output_size = 10"
   ]
  },
  {
   "cell_type": "code",
   "execution_count": 19,
   "id": "6b0026d0",
   "metadata": {},
   "outputs": [],
   "source": [
    "model = ShallowNetwork(input_size, hidden_size, output_size)"
   ]
  },
  {
   "cell_type": "code",
   "execution_count": 20,
   "id": "805cb17b",
   "metadata": {},
   "outputs": [],
   "source": [
    "criterion = nn.CrossEntropyLoss()\n",
    "optimizer = optim.SGD(model.parameters(), lr=eta)"
   ]
  },
  {
   "cell_type": "code",
   "execution_count": 21,
   "id": "d773668b",
   "metadata": {},
   "outputs": [],
   "source": [
    "best_val_loss = float('inf')\n",
    "p = 5  \n",
    "t = 0"
   ]
  },
  {
   "cell_type": "code",
   "execution_count": 23,
   "id": "5bff4318",
   "metadata": {
    "scrolled": false
   },
   "outputs": [
    {
     "name": "stdout",
     "output_type": "stream",
     "text": [
      "Époch 1/100, Loss = 0.0776\n",
      "Epoch 1, Validation Loss: 0.1944\n",
      "Époch 2/100, Loss = 0.0882\n",
      "Epoch 2, Validation Loss: 0.1682\n",
      "Époch 3/100, Loss = 0.2174\n",
      "Epoch 3, Validation Loss: 0.1435\n",
      "Époch 4/100, Loss = 0.0662\n",
      "Epoch 4, Validation Loss: 0.1303\n",
      "Époch 5/100, Loss = 0.0334\n",
      "Epoch 5, Validation Loss: 0.1232\n",
      "Époch 6/100, Loss = 0.0286\n",
      "Epoch 6, Validation Loss: 0.1134\n",
      "Époch 7/100, Loss = 0.0219\n",
      "Epoch 7, Validation Loss: 0.1064\n",
      "Époch 8/100, Loss = 0.1325\n",
      "Epoch 8, Validation Loss: 0.1003\n",
      "Époch 9/100, Loss = 0.5749\n",
      "Epoch 9, Validation Loss: 0.1006\n",
      "Époch 10/100, Loss = 0.0065\n",
      "Epoch 10, Validation Loss: 0.0996\n",
      "Époch 11/100, Loss = 0.0175\n",
      "Epoch 11, Validation Loss: 0.0942\n",
      "Époch 12/100, Loss = 0.0024\n",
      "Epoch 12, Validation Loss: 0.0935\n",
      "Époch 13/100, Loss = 0.0103\n",
      "Epoch 13, Validation Loss: 0.0925\n",
      "Époch 14/100, Loss = 0.0014\n",
      "Epoch 14, Validation Loss: 0.0914\n",
      "Époch 15/100, Loss = 0.0369\n",
      "Epoch 15, Validation Loss: 0.0899\n",
      "Époch 16/100, Loss = 0.1829\n",
      "Epoch 16, Validation Loss: 0.0853\n",
      "Époch 17/100, Loss = 0.0002\n",
      "Epoch 17, Validation Loss: 0.0862\n",
      "Époch 18/100, Loss = 0.0296\n",
      "Epoch 18, Validation Loss: 0.0831\n",
      "Époch 19/100, Loss = 0.0065\n",
      "Epoch 19, Validation Loss: 0.0867\n",
      "Époch 20/100, Loss = 0.0957\n",
      "Epoch 20, Validation Loss: 0.0862\n",
      "Époch 21/100, Loss = 0.0198\n",
      "Epoch 21, Validation Loss: 0.0832\n",
      "Époch 22/100, Loss = 0.1268\n",
      "Epoch 22, Validation Loss: 0.0822\n",
      "Époch 23/100, Loss = 0.0940\n",
      "Epoch 23, Validation Loss: 0.0813\n",
      "Époch 24/100, Loss = 0.0604\n",
      "Epoch 24, Validation Loss: 0.0790\n",
      "Époch 25/100, Loss = 0.0518\n",
      "Epoch 25, Validation Loss: 0.0801\n",
      "Époch 26/100, Loss = 0.0048\n",
      "Epoch 26, Validation Loss: 0.0780\n",
      "Époch 27/100, Loss = 0.0007\n",
      "Epoch 27, Validation Loss: 0.0805\n",
      "Époch 28/100, Loss = 0.0772\n",
      "Epoch 28, Validation Loss: 0.0804\n",
      "Époch 29/100, Loss = 0.0205\n",
      "Epoch 29, Validation Loss: 0.0805\n",
      "Époch 30/100, Loss = 0.0034\n",
      "Epoch 30, Validation Loss: 0.0800\n",
      "Époch 31/100, Loss = 1.0259\n",
      "Epoch 31, Validation Loss: 0.0786\n",
      "Early stopping!\n"
     ]
    }
   ],
   "source": [
    "for epoch in range(nb_epochs):\n",
    "    model.train()\n",
    "    running_loss = 0\n",
    "    for images ,labels in train_loader:\n",
    "        optimizer.zero_grad()\n",
    "        outputs = model(images)\n",
    "        loss=criterion(outputs, labels)\n",
    "        loss.backward()\n",
    "        optimizer.step()\n",
    "        \n",
    "    print(f\"Époch {epoch+1}/{nb_epochs}, Loss = {loss.item():.4f}\")\n",
    "    \n",
    "    model.eval()\n",
    "    val_loss = 0\n",
    "    with torch.no_grad():\n",
    "        for images, labels in valid_loader:\n",
    "            outputs = model(images)\n",
    "            loss = criterion(outputs, labels)\n",
    "            val_loss += loss.item()\n",
    "    \n",
    "    val_loss /= len(valid_loader)\n",
    "    print(f\"Epoch {epoch+1}, Validation Loss: {val_loss:.4f}\")\n",
    "\n",
    "\n",
    "    if val_loss < best_val_loss:\n",
    "        best_val_loss = val_loss\n",
    "        t = 0\n",
    "    else:\n",
    "        t += 1\n",
    "    \n",
    "    if t >= p:\n",
    "        print(\"Early stopping!\")\n",
    "        break\n",
    "    \n",
    "    \n",
    "    "
   ]
  },
  {
   "cell_type": "code",
   "execution_count": 36,
   "id": "69544f72",
   "metadata": {},
   "outputs": [],
   "source": [
    "# Mode évaluation\n",
    "model.eval()\n",
    "acc=0\n",
    "all_labels = []\n",
    "all_preds = []\n",
    "with torch.no_grad():\n",
    "    for images, labels in test_loader:\n",
    "        outputs = model(images)\n",
    "        _, predicted = torch.max(outputs, 1)\n",
    "        label_multiclas = torch.argmax(labels, dim=1)\n",
    "        all_labels.extend(label_multiclas.cpu().numpy())\n",
    "        all_preds.extend(predicted.cpu().numpy())"
   ]
  },
  {
   "cell_type": "code",
   "execution_count": null,
   "id": "7c18c3e2",
   "metadata": {},
   "outputs": [],
   "source": []
  },
  {
   "cell_type": "code",
   "execution_count": 37,
   "id": "9c12698d",
   "metadata": {},
   "outputs": [],
   "source": [
    "accuracy = accuracy_score(all_labels, all_preds)\n",
    "precision = precision_score(all_labels, all_preds, average='macro')\n",
    "recall = recall_score(all_labels, all_preds, average='macro')\n",
    "f1 = f1_score(all_labels, all_preds, average='macro')"
   ]
  },
  {
   "cell_type": "code",
   "execution_count": 38,
   "id": "e6cd2356",
   "metadata": {},
   "outputs": [
    {
     "name": "stdout",
     "output_type": "stream",
     "text": [
      "Test Accuracy: 97.96%\n",
      "Precision: 0.98\n",
      "Recall: 0.98\n",
      "F1-Score: 0.98\n"
     ]
    }
   ],
   "source": [
    "print(f\"Test Accuracy: {accuracy * 100:.2f}%\")\n",
    "print(f\"Precision: {precision:.2f}\")\n",
    "print(f\"Recall: {recall:.2f}\")\n",
    "print(f\"F1-Score: {f1:.2f}\")"
   ]
  },
  {
   "cell_type": "code",
   "execution_count": null,
   "id": "637b6c45",
   "metadata": {},
   "outputs": [],
   "source": []
  },
  {
   "cell_type": "code",
   "execution_count": null,
   "id": "4d575068",
   "metadata": {},
   "outputs": [],
   "source": []
  },
  {
   "cell_type": "code",
   "execution_count": null,
   "id": "a6ee5459",
   "metadata": {},
   "outputs": [],
   "source": []
  }
 ],
 "metadata": {
  "kernelspec": {
   "display_name": "Python 3 (ipykernel)",
   "language": "python",
   "name": "python3"
  },
  "language_info": {
   "codemirror_mode": {
    "name": "ipython",
    "version": 3
   },
   "file_extension": ".py",
   "mimetype": "text/x-python",
   "name": "python",
   "nbconvert_exporter": "python",
   "pygments_lexer": "ipython3",
   "version": "3.11.5"
  }
 },
 "nbformat": 4,
 "nbformat_minor": 5
}
